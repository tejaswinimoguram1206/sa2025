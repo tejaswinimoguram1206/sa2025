{
  "metadata": {
    "kernelspec": {
      "language": "python",
      "display_name": "Python 3",
      "name": "python3"
    },
    "language_info": {
      "name": "python",
      "version": "3.11.11",
      "mimetype": "text/x-python",
      "codemirror_mode": {
        "name": "ipython",
        "version": 3
      },
      "pygments_lexer": "ipython3",
      "nbconvert_exporter": "python",
      "file_extension": ".py"
    },
    "kaggle": {
      "accelerator": "none",
      "dataSources": [
        {
          "sourceId": 104491,
          "databundleVersionId": 12585144,
          "sourceType": "competition"
        }
      ],
      "dockerImageVersionId": 31040,
      "isInternetEnabled": false,
      "language": "python",
      "sourceType": "notebook",
      "isGpuEnabled": false
    },
    "colab": {
      "name": "code 1",
      "provenance": [],
      "include_colab_link": true
    }
  },
  "nbformat_minor": 0,
  "nbformat": 4,
  "cells": [
    {
      "cell_type": "markdown",
      "metadata": {
        "id": "view-in-github",
        "colab_type": "text"
      },
      "source": [
        "<a href=\"https://colab.research.google.com/github/tejaswinimoguram1206/sa2025/blob/main/code_1.ipynb\" target=\"_parent\"><img src=\"https://colab.research.google.com/assets/colab-badge.svg\" alt=\"Open In Colab\"/></a>"
      ]
    },
    {
      "source": [
        "# IMPORTANT: SOME KAGGLE DATA SOURCES ARE PRIVATE\n",
        "# RUN THIS CELL IN ORDER TO IMPORT YOUR KAGGLE DATA SOURCES.\n",
        "import kagglehub\n",
        "kagglehub.login()\n"
      ],
      "metadata": {
        "id": "Ki1JXH4Lp2Yc"
      },
      "cell_type": "code",
      "outputs": [],
      "execution_count": null
    },
    {
      "source": [
        "# IMPORTANT: RUN THIS CELL IN ORDER TO IMPORT YOUR KAGGLE DATA SOURCES,\n",
        "# THEN FEEL FREE TO DELETE THIS CELL.\n",
        "# NOTE: THIS NOTEBOOK ENVIRONMENT DIFFERS FROM KAGGLE'S PYTHON\n",
        "# ENVIRONMENT SO THERE MAY BE MISSING LIBRARIES USED BY YOUR\n",
        "# NOTEBOOK.\n",
        "\n",
        "summer_analytics_mid_hackathon_path = kagglehub.competition_download('summer-analytics-mid-hackathon')\n",
        "\n",
        "print('Data source import complete.')\n"
      ],
      "metadata": {
        "id": "ID1szPeKp2Yg"
      },
      "cell_type": "code",
      "outputs": [],
      "execution_count": null
    },
    {
      "cell_type": "code",
      "source": [
        "\n",
        "import os\n",
        "for dirname, _, filenames in os.walk('/kaggle/input'):\n",
        "    for filename in filenames:\n",
        "        print(os.path.join(dirname, filename))\n"
      ],
      "metadata": {
        "_uuid": "8f2839f25d086af736a60e9eeb907d3b93b6e0e5",
        "_cell_guid": "b1076dfc-b9ad-4769-8c92-a6c4dae69d19",
        "trusted": true,
        "execution": {
          "iopub.status.busy": "2025-06-12T06:22:13.075955Z",
          "iopub.execute_input": "2025-06-12T06:22:13.076248Z",
          "iopub.status.idle": "2025-06-12T06:22:13.085845Z",
          "shell.execute_reply.started": "2025-06-12T06:22:13.076216Z",
          "shell.execute_reply": "2025-06-12T06:22:13.084466Z"
        },
        "id": "SI7kUlDdp2Yi"
      },
      "outputs": [],
      "execution_count": null
    },
    {
      "cell_type": "code",
      "source": [
        "import pandas as pd\n",
        "df=pd.read_csv(\"/kaggle/input/summer-analytics-mid-hackathon/hacktrain.csv\")\n",
        "df"
      ],
      "metadata": {
        "trusted": true,
        "execution": {
          "iopub.status.busy": "2025-06-12T06:23:39.185316Z",
          "iopub.execute_input": "2025-06-12T06:23:39.185651Z",
          "iopub.status.idle": "2025-06-12T06:23:39.646461Z",
          "shell.execute_reply.started": "2025-06-12T06:23:39.185625Z",
          "shell.execute_reply": "2025-06-12T06:23:39.644636Z"
        },
        "id": "GHU46r5op2Yj"
      },
      "outputs": [],
      "execution_count": null
    },
    {
      "cell_type": "code",
      "source": [
        "df.isnull().sum()"
      ],
      "metadata": {
        "trusted": true,
        "execution": {
          "iopub.status.busy": "2025-06-12T06:24:06.351709Z",
          "iopub.execute_input": "2025-06-12T06:24:06.352134Z",
          "iopub.status.idle": "2025-06-12T06:24:06.364483Z",
          "shell.execute_reply.started": "2025-06-12T06:24:06.352105Z",
          "shell.execute_reply": "2025-06-12T06:24:06.363308Z"
        },
        "id": "HRzA9oY_p2Yk"
      },
      "outputs": [],
      "execution_count": null
    },
    {
      "cell_type": "code",
      "source": [
        "df.fillna(df.mean(numeric_only= True),inplace=True)\n",
        "df.isnull().sum()"
      ],
      "metadata": {
        "trusted": true,
        "execution": {
          "iopub.status.busy": "2025-06-12T06:25:37.366531Z",
          "iopub.execute_input": "2025-06-12T06:25:37.367066Z",
          "iopub.status.idle": "2025-06-12T06:25:37.40683Z",
          "shell.execute_reply.started": "2025-06-12T06:25:37.366916Z",
          "shell.execute_reply": "2025-06-12T06:25:37.405721Z"
        },
        "id": "yeiWP7zyp2Yk"
      },
      "outputs": [],
      "execution_count": null
    },
    {
      "cell_type": "code",
      "source": [
        "import pandas as pd\n",
        "from sklearn.linear_model import LogisticRegression\n",
        "from sklearn.model_selection import train_test_split\n",
        "from sklearn.preprocessing import LabelEncoder\n",
        "from sklearn.metrics import classification_report\n",
        "\n",
        "# Drop ID column\n",
        "df.drop(columns=['ID'], inplace=True)\n",
        "# Encode class column (if it's categorical)\n",
        "label_encoder = LabelEncoder()\n",
        "df['class'] = label_encoder.fit_transform(df['class'])\n",
        "\n",
        "# Split into features and target\n",
        "X = df.drop(columns=['class'])\n",
        "y = df['class']\n",
        "\n",
        "# Train-test split\n",
        "X_train, X_test, y_train, y_test = train_test_split(\n",
        "    X, y, test_size=0.2, random_state=42, stratify=y)\n",
        "\n",
        "# Fit multinomial logistic regression\n",
        "model = LogisticRegression(\n",
        "    multi_class='multinomial',\n",
        "    solver='lbfgs',\n",
        "    max_iter=10\n",
        ")\n",
        "model.fit(X_train, y_train)\n",
        "\n",
        "# Predict on test set\n",
        "y_pred = model.predict(X_test)\n",
        "\n",
        "# Classification report with all original class labels\n",
        "print(classification_report(\n",
        "    y_test,\n",
        "    y_pred,\n",
        "    labels=list(range(len(label_encoder.classes_))),\n",
        "    target_names=label_encoder.classes_\n",
        "))\n"
      ],
      "metadata": {
        "trusted": true,
        "execution": {
          "iopub.status.busy": "2025-06-12T06:27:36.706933Z",
          "iopub.execute_input": "2025-06-12T06:27:36.707273Z",
          "iopub.status.idle": "2025-06-12T06:27:37.724491Z",
          "shell.execute_reply.started": "2025-06-12T06:27:36.707248Z",
          "shell.execute_reply": "2025-06-12T06:27:37.721759Z"
        },
        "id": "iLYvh_T0p2Yl"
      },
      "outputs": [],
      "execution_count": null
    },
    {
      "cell_type": "code",
      "source": [
        "test_data=pd.read_csv(\"/kaggle/input/summer-analytics-mid-hackathon/hacktest.csv\")\n",
        "test_data.shape"
      ],
      "metadata": {
        "trusted": true,
        "execution": {
          "iopub.status.busy": "2025-06-12T06:28:31.246094Z",
          "iopub.execute_input": "2025-06-12T06:28:31.246506Z",
          "iopub.status.idle": "2025-06-12T06:28:31.283245Z",
          "shell.execute_reply.started": "2025-06-12T06:28:31.246481Z",
          "shell.execute_reply": "2025-06-12T06:28:31.28221Z"
        },
        "id": "PvC-_cTVp2Ym"
      },
      "outputs": [],
      "execution_count": null
    },
    {
      "cell_type": "code",
      "source": [
        "ID=test_data['ID']\n",
        "test_data.drop(['ID'],axis=1,inplace=True)"
      ],
      "metadata": {
        "trusted": true,
        "execution": {
          "iopub.status.busy": "2025-06-12T06:28:50.706355Z",
          "iopub.execute_input": "2025-06-12T06:28:50.706658Z",
          "iopub.status.idle": "2025-06-12T06:28:50.712821Z",
          "shell.execute_reply.started": "2025-06-12T06:28:50.706637Z",
          "shell.execute_reply": "2025-06-12T06:28:50.711663Z"
        },
        "id": "NUnbdCc8p2Ym"
      },
      "outputs": [],
      "execution_count": null
    },
    {
      "cell_type": "code",
      "source": [
        "y_test = model.predict(test_data)"
      ],
      "metadata": {
        "trusted": true,
        "execution": {
          "iopub.status.busy": "2025-06-12T06:29:03.992687Z",
          "iopub.execute_input": "2025-06-12T06:29:03.993383Z",
          "iopub.status.idle": "2025-06-12T06:29:04.000244Z",
          "shell.execute_reply.started": "2025-06-12T06:29:03.993356Z",
          "shell.execute_reply": "2025-06-12T06:29:03.99913Z"
        },
        "id": "_qArfih0p2Yn"
      },
      "outputs": [],
      "execution_count": null
    },
    {
      "cell_type": "code",
      "source": [
        "y_test"
      ],
      "metadata": {
        "trusted": true,
        "execution": {
          "iopub.status.busy": "2025-06-12T06:29:34.114546Z",
          "iopub.execute_input": "2025-06-12T06:29:34.114881Z",
          "iopub.status.idle": "2025-06-12T06:29:34.120724Z",
          "shell.execute_reply.started": "2025-06-12T06:29:34.114859Z",
          "shell.execute_reply": "2025-06-12T06:29:34.119895Z"
        },
        "id": "fIwLFMwMp2Yn"
      },
      "outputs": [],
      "execution_count": null
    },
    {
      "cell_type": "code",
      "source": [
        "y_decoded = label_encoder.inverse_transform(y_test)\n",
        "y_decoded"
      ],
      "metadata": {
        "trusted": true,
        "execution": {
          "iopub.status.busy": "2025-06-12T06:29:47.028283Z",
          "iopub.execute_input": "2025-06-12T06:29:47.028599Z",
          "iopub.status.idle": "2025-06-12T06:29:47.035707Z",
          "shell.execute_reply.started": "2025-06-12T06:29:47.028576Z",
          "shell.execute_reply": "2025-06-12T06:29:47.034682Z"
        },
        "id": "Vq0bm5sLp2Yn"
      },
      "outputs": [],
      "execution_count": null
    },
    {
      "cell_type": "code",
      "source": [
        "result = pd.DataFrame({\n",
        "    'ID': ID,\n",
        "    'class': y_decoded\n",
        "})"
      ],
      "metadata": {
        "trusted": true,
        "execution": {
          "iopub.status.busy": "2025-06-12T06:30:15.053629Z",
          "iopub.execute_input": "2025-06-12T06:30:15.053953Z",
          "iopub.status.idle": "2025-06-12T06:30:15.059581Z",
          "shell.execute_reply.started": "2025-06-12T06:30:15.053931Z",
          "shell.execute_reply": "2025-06-12T06:30:15.058526Z"
        },
        "id": "erD4t0jDp2Yo"
      },
      "outputs": [],
      "execution_count": null
    },
    {
      "cell_type": "code",
      "source": [
        "result"
      ],
      "metadata": {
        "trusted": true,
        "execution": {
          "iopub.status.busy": "2025-06-12T06:30:23.833248Z",
          "iopub.execute_input": "2025-06-12T06:30:23.833521Z",
          "iopub.status.idle": "2025-06-12T06:30:23.844257Z",
          "shell.execute_reply.started": "2025-06-12T06:30:23.833503Z",
          "shell.execute_reply": "2025-06-12T06:30:23.843343Z"
        },
        "id": "lqvJM5LZp2Yo"
      },
      "outputs": [],
      "execution_count": null
    },
    {
      "cell_type": "code",
      "source": [
        "result.to_csv(\"submission.csv\", index=False)"
      ],
      "metadata": {
        "trusted": true,
        "execution": {
          "iopub.status.busy": "2025-06-12T06:30:41.285525Z",
          "iopub.execute_input": "2025-06-12T06:30:41.285921Z",
          "iopub.status.idle": "2025-06-12T06:30:41.294146Z",
          "shell.execute_reply.started": "2025-06-12T06:30:41.285885Z",
          "shell.execute_reply": "2025-06-12T06:30:41.293271Z"
        },
        "id": "sm5uuTO7p2Yo"
      },
      "outputs": [],
      "execution_count": null
    }
  ]
}